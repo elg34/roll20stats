{
 "cells": [
  {
   "cell_type": "code",
   "execution_count": 1,
   "metadata": {},
   "outputs": [],
   "source": [
    "## INPUT\n",
    "name=\"RiseOfTiamat\""
   ]
  },
  {
   "cell_type": "code",
   "execution_count": 5,
   "metadata": {},
   "outputs": [
    {
     "data": {
      "text/html": [
       "<div>\n",
       "<style scoped>\n",
       "    .dataframe tbody tr th:only-of-type {\n",
       "        vertical-align: middle;\n",
       "    }\n",
       "\n",
       "    .dataframe tbody tr th {\n",
       "        vertical-align: top;\n",
       "    }\n",
       "\n",
       "    .dataframe thead th {\n",
       "        text-align: right;\n",
       "    }\n",
       "</style>\n",
       "<table border=\"1\" class=\"dataframe\">\n",
       "  <thead>\n",
       "    <tr style=\"text-align: right;\">\n",
       "      <th></th>\n",
       "      <th>Player</th>\n",
       "      <th>Timestamp</th>\n",
       "      <th>Skill</th>\n",
       "      <th>Result</th>\n",
       "      <th>Raw</th>\n",
       "      <th>Plus</th>\n",
       "      <th>Day</th>\n",
       "    </tr>\n",
       "  </thead>\n",
       "  <tbody>\n",
       "    <tr>\n",
       "      <th>0</th>\n",
       "      <td>Gruumsh</td>\n",
       "      <td>2020-04-19 19:09:00</td>\n",
       "      <td>PERSUASION</td>\n",
       "      <td>24</td>\n",
       "      <td>18</td>\n",
       "      <td>6</td>\n",
       "      <td>2020-04-19</td>\n",
       "    </tr>\n",
       "    <tr>\n",
       "      <th>1</th>\n",
       "      <td>Gruumsh</td>\n",
       "      <td>2020-04-19 20:24:00</td>\n",
       "      <td>INVESTIGATION</td>\n",
       "      <td>10</td>\n",
       "      <td>11</td>\n",
       "      <td>-1</td>\n",
       "      <td>2020-04-19</td>\n",
       "    </tr>\n",
       "    <tr>\n",
       "      <th>2</th>\n",
       "      <td>Ylva</td>\n",
       "      <td>2020-04-19 20:34:00</td>\n",
       "      <td>PERCEPTION</td>\n",
       "      <td>25</td>\n",
       "      <td>19</td>\n",
       "      <td>6</td>\n",
       "      <td>2020-04-19</td>\n",
       "    </tr>\n",
       "    <tr>\n",
       "      <th>3</th>\n",
       "      <td>Gruumsh</td>\n",
       "      <td>2020-04-19 20:44:00</td>\n",
       "      <td>PERFORMANCE</td>\n",
       "      <td>17</td>\n",
       "      <td>14</td>\n",
       "      <td>3</td>\n",
       "      <td>2020-04-19</td>\n",
       "    </tr>\n",
       "    <tr>\n",
       "      <th>4</th>\n",
       "      <td>Gruumsh</td>\n",
       "      <td>2020-04-19 21:19:00</td>\n",
       "      <td>ATHLETICS</td>\n",
       "      <td>26</td>\n",
       "      <td>19</td>\n",
       "      <td>7</td>\n",
       "      <td>2020-04-19</td>\n",
       "    </tr>\n",
       "    <tr>\n",
       "      <th>...</th>\n",
       "      <td>...</td>\n",
       "      <td>...</td>\n",
       "      <td>...</td>\n",
       "      <td>...</td>\n",
       "      <td>...</td>\n",
       "      <td>...</td>\n",
       "      <td>...</td>\n",
       "    </tr>\n",
       "    <tr>\n",
       "      <th>1048</th>\n",
       "      <td>Ylva</td>\n",
       "      <td>2020-12-11 22:08:00</td>\n",
       "      <td>INSIGHT</td>\n",
       "      <td>12</td>\n",
       "      <td>9</td>\n",
       "      <td>3</td>\n",
       "      <td>2020-11-12</td>\n",
       "    </tr>\n",
       "    <tr>\n",
       "      <th>1049</th>\n",
       "      <td>Ylva</td>\n",
       "      <td>2020-12-11 22:22:00</td>\n",
       "      <td>HISTORY</td>\n",
       "      <td>21</td>\n",
       "      <td>16</td>\n",
       "      <td>5</td>\n",
       "      <td>2020-11-12</td>\n",
       "    </tr>\n",
       "    <tr>\n",
       "      <th>1050</th>\n",
       "      <td>Parun</td>\n",
       "      <td>2020-12-11 22:34:00</td>\n",
       "      <td>INSIGHT</td>\n",
       "      <td>19</td>\n",
       "      <td>10</td>\n",
       "      <td>9</td>\n",
       "      <td>2020-11-12</td>\n",
       "    </tr>\n",
       "    <tr>\n",
       "      <th>1051</th>\n",
       "      <td>Parun</td>\n",
       "      <td>2020-12-11 22:34:00</td>\n",
       "      <td>INSIGHT</td>\n",
       "      <td>16</td>\n",
       "      <td>7</td>\n",
       "      <td>9</td>\n",
       "      <td>2020-11-12</td>\n",
       "    </tr>\n",
       "    <tr>\n",
       "      <th>1052</th>\n",
       "      <td>Ylva</td>\n",
       "      <td>2020-12-11 22:39:00</td>\n",
       "      <td>INSIGHT</td>\n",
       "      <td>11</td>\n",
       "      <td>8</td>\n",
       "      <td>3</td>\n",
       "      <td>2020-11-12</td>\n",
       "    </tr>\n",
       "  </tbody>\n",
       "</table>\n",
       "<p>1053 rows × 7 columns</p>\n",
       "</div>"
      ],
      "text/plain": [
       "       Player           Timestamp          Skill  Result  Raw  Plus        Day\n",
       "0     Gruumsh 2020-04-19 19:09:00     PERSUASION      24   18     6 2020-04-19\n",
       "1     Gruumsh 2020-04-19 20:24:00  INVESTIGATION      10   11    -1 2020-04-19\n",
       "2        Ylva 2020-04-19 20:34:00     PERCEPTION      25   19     6 2020-04-19\n",
       "3     Gruumsh 2020-04-19 20:44:00    PERFORMANCE      17   14     3 2020-04-19\n",
       "4     Gruumsh 2020-04-19 21:19:00      ATHLETICS      26   19     7 2020-04-19\n",
       "...       ...                 ...            ...     ...  ...   ...        ...\n",
       "1048     Ylva 2020-12-11 22:08:00        INSIGHT      12    9     3 2020-11-12\n",
       "1049     Ylva 2020-12-11 22:22:00        HISTORY      21   16     5 2020-11-12\n",
       "1050    Parun 2020-12-11 22:34:00        INSIGHT      19   10     9 2020-11-12\n",
       "1051    Parun 2020-12-11 22:34:00        INSIGHT      16    7     9 2020-11-12\n",
       "1052     Ylva 2020-12-11 22:39:00        INSIGHT      11    8     3 2020-11-12\n",
       "\n",
       "[1053 rows x 7 columns]"
      ]
     },
     "execution_count": 5,
     "metadata": {},
     "output_type": "execute_result"
    }
   ],
   "source": [
    "import pandas as pd\n",
    "import matplotlib.pyplot as plt\n",
    "from matplotlib.dates import DateFormatter\n",
    "import seaborn as sns\n",
    "%matplotlib inline\n",
    "\n",
    "df=pd.read_csv(\"skills_\"+name+\".csv\",sep=\";\")\n",
    "df[\"Timestamp\"]=pd.to_datetime(df[\"Timestamp\"])\n",
    "df[\"Day\"]=pd.to_datetime(df[\"Day\"])\n",
    "df"
   ]
  },
  {
   "cell_type": "markdown",
   "metadata": {},
   "source": [
    "## Skillchecks"
   ]
  },
  {
   "cell_type": "code",
   "execution_count": 6,
   "metadata": {},
   "outputs": [
    {
     "data": {
      "text/plain": [
       "(array([ 0,  1,  2,  3,  4,  5,  6,  7,  8,  9, 10, 11, 12, 13, 14, 15, 16,\n",
       "        17]),\n",
       " [Text(0, 0, 'ACROBATICS'),\n",
       "  Text(1, 0, 'ANIMAL HANDLING'),\n",
       "  Text(2, 0, 'ARCANA'),\n",
       "  Text(3, 0, 'ATHLETICS'),\n",
       "  Text(4, 0, 'DECEPTION'),\n",
       "  Text(5, 0, 'HISTORY'),\n",
       "  Text(6, 0, 'INSIGHT'),\n",
       "  Text(7, 0, 'INTIMIDATION'),\n",
       "  Text(8, 0, 'INVESTIGATION'),\n",
       "  Text(9, 0, 'MEDICINE'),\n",
       "  Text(10, 0, 'NATURE'),\n",
       "  Text(11, 0, 'PERCEPTION'),\n",
       "  Text(12, 0, 'PERFORMANCE'),\n",
       "  Text(13, 0, 'PERSUASION'),\n",
       "  Text(14, 0, 'RELIGION'),\n",
       "  Text(15, 0, 'SLEIGHT OF HAND'),\n",
       "  Text(16, 0, 'STEALTH'),\n",
       "  Text(17, 0, 'SURVIVAL')])"
      ]
     },
     "execution_count": 6,
     "metadata": {},
     "output_type": "execute_result"
    },
    {
     "data": {
      "image/png": "[encoded data removed]",
      "text/plain": [
       "<Figure size 432x288 with 1 Axes>"
      ]
     },
     "metadata": {
      "needs_background": "light"
     },
     "output_type": "display_data"
    }
   ],
   "source": [
    "skills=['ACROBATICS',\n",
    " 'ANIMAL HANDLING',\n",
    " 'ARCANA',\n",
    " 'ATHLETICS',\n",
    " 'DECEPTION',\n",
    " 'HISTORY',\n",
    " 'INSIGHT',\n",
    " 'INTIMIDATION',\n",
    " 'INVESTIGATION',\n",
    " 'MEDICINE',\n",
    " 'NATURE',\n",
    " 'PERCEPTION',\n",
    " 'PERFORMANCE',\n",
    " 'PERSUASION',\n",
    " 'RELIGION',\n",
    " 'SLEIGHT OF HAND',\n",
    " 'STEALTH',\n",
    " 'SURVIVAL']\n",
    "\n",
    "ax = sns.countplot(x=\"Skill\", hue=\"Player\", data=df, order=skills)\n",
    "plt.xticks(rotation=90)"
   ]
  },
  {
   "cell_type": "markdown",
   "metadata": {},
   "source": [
    "Count of skillchecks per month and player"
   ]
  },
  {
   "cell_type": "code",
   "execution_count": 7,
   "metadata": {},
   "outputs": [
    {
     "data": {
      "text/plain": [
       "Timestamp  Timestamp  Player \n",
       "2020       4          Gruumsh     8\n",
       "                      Parun       2\n",
       "                      Ylva        8\n",
       "           5          Gruumsh    38\n",
       "                      Parun      57\n",
       "                      Ylva       52\n",
       "           6          Gruumsh    31\n",
       "                      Parun      42\n",
       "                      Ylva       80\n",
       "           7          Gruumsh    37\n",
       "                      Parun      52\n",
       "                      Ylva       56\n",
       "           8          Gruumsh    27\n",
       "                      Parun      76\n",
       "                      Ylva       43\n",
       "           9          Gruumsh    30\n",
       "                      Parun      48\n",
       "                      Ylva       57\n",
       "           10         Gruumsh    18\n",
       "                      Parun      30\n",
       "                      Ylva       53\n",
       "           11         Gruumsh    19\n",
       "                      Parun      48\n",
       "                      Ylva       73\n",
       "           12         Gruumsh    12\n",
       "                      Parun      23\n",
       "                      Ylva       33\n",
       "Name: Timestamp, dtype: int64"
      ]
     },
     "execution_count": 7,
     "metadata": {},
     "output_type": "execute_result"
    }
   ],
   "source": [
    "df['Timestamp'].groupby([df.Timestamp.dt.year, df.Timestamp.dt.month, df.Player]).agg('count')"
   ]
  },
  {
   "cell_type": "markdown",
   "metadata": {},
   "source": [
    "Average plusses on skillchecks"
   ]
  },
  {
   "cell_type": "code",
   "execution_count": 8,
   "metadata": {},
   "outputs": [
    {
     "data": {
      "text/plain": [
       "Player\n",
       "Gruumsh    3.340909\n",
       "Parun      5.582011\n",
       "Ylva       7.112088\n",
       "Name: Plus, dtype: float64"
      ]
     },
     "execution_count": 8,
     "metadata": {},
     "output_type": "execute_result"
    }
   ],
   "source": [
    "df['Plus'].groupby([df.Player]).agg('mean')"
   ]
  },
  {
   "cell_type": "markdown",
   "metadata": {},
   "source": [
    "## Distribution of natural rolls"
   ]
  },
  {
   "cell_type": "code",
   "execution_count": 9,
   "metadata": {},
   "outputs": [
    {
     "data": {
      "text/plain": [
       "<seaborn.axisgrid.FacetGrid at 0x7f7976206430>"
      ]
     },
     "execution_count": 9,
     "metadata": {},
     "output_type": "execute_result"
    },
    {
     "data": {
      "image/png": "[encoded data removed]",
      "text/plain": [
       "<Figure size 864x216 with 3 Axes>"
      ]
     },
     "metadata": {
      "needs_background": "light"
     },
     "output_type": "display_data"
    }
   ],
   "source": [
    "g = sns.FacetGrid(df,col=\"Player\",col_wrap=4)\n",
    "g.map_dataframe(sns.histplot, x=\"Raw\")\n",
    "g.set_axis_labels(\"Raw Rolls\", \"Count\")"
   ]
  },
  {
   "cell_type": "markdown",
   "metadata": {},
   "source": [
    "## Crits"
   ]
  },
  {
   "cell_type": "code",
   "execution_count": 10,
   "metadata": {},
   "outputs": [],
   "source": [
    "crits20=df[df[\"Raw\"]==20]\n",
    "crits1=df[df[\"Raw\"]==1]"
   ]
  },
  {
   "cell_type": "code",
   "execution_count": 11,
   "metadata": {},
   "outputs": [
    {
     "data": {
      "text/plain": [
       "Player\n",
       "Gruumsh    11\n",
       "Parun      26\n",
       "Ylva       22\n",
       "Name: Timestamp, dtype: int64"
      ]
     },
     "execution_count": 11,
     "metadata": {},
     "output_type": "execute_result"
    }
   ],
   "source": [
    "crits20['Timestamp'].groupby([df.Timestamp.dt.year, df.Timestamp.dt.month, df.Player]).agg('count')\n",
    "crits20['Timestamp'].groupby([df.Player]).agg('count')"
   ]
  },
  {
   "cell_type": "code",
   "execution_count": 12,
   "metadata": {},
   "outputs": [
    {
     "data": {
      "text/plain": [
       "Player\n",
       "Gruumsh    17\n",
       "Parun      16\n",
       "Ylva       14\n",
       "Name: Timestamp, dtype: int64"
      ]
     },
     "execution_count": 12,
     "metadata": {},
     "output_type": "execute_result"
    }
   ],
   "source": [
    "crits1['Timestamp'].groupby([df.Timestamp.dt.year, df.Timestamp.dt.month, df.Player]).agg('count')\n",
    "crits1['Timestamp'].groupby([df.Player]).agg('count')"
   ]
  }
 ],
 "metadata": {
  "kernelspec": {
   "display_name": "Python 3",
   "language": "python",
   "name": "python3"
  },
  "language_info": {
   "codemirror_mode": {
    "name": "ipython",
    "version": 3
   },
   "file_extension": ".py",
   "mimetype": "text/x-python",
   "name": "python",
   "nbconvert_exporter": "python",
   "pygments_lexer": "ipython3",
   "version": "3.9.1"
  }
 },
 "nbformat": 4,
 "nbformat_minor": 4
}
