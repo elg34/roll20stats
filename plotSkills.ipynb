{
 "cells": [
  {
   "cell_type": "code",
   "execution_count": 5,
   "metadata": {},
   "outputs": [],
   "source": [
    "## INPUT\n",
    "name=\"Rogers5thEd\""
   ]
  },
  {
   "cell_type": "code",
   "execution_count": 8,
   "metadata": {},
   "outputs": [],
   "source": [
    "players=dict(\n",
    "{'Dasypus Bellow.':'Dasypus',\n",
    " 'Edmund':'Nepelope',\n",
    " 'Eljas O.':'Kääpiöinën',\n",
    " 'Goat':'Wise Goat',\n",
    " 'Hak-Bina':'Hak-Bina',\n",
    " 'Korth':'Korth',\n",
    " 'Kääpiöinën':'DM',\n",
    " 'Lui':'Nura',\n",
    " 'Mike W.':'Korth',\n",
    "'Nepelope':'Nepelope',\n",
    "'Nura':'Nura',\n",
    " 'Roger G. (GM)':'DM',\n",
    " 'Who is Rea':'Oelita',\n",
    " 'Zoanne':'Hak-Bina'\n",
    "}\n",
    ")\n",
    "plyrs=[\"Dasypus\",\"Nepelope\",\"Oelita\",\"Nura\",\"Hak-Bina\",\"Korth\",\"Kääpiöinën\",\"Wise Goat\"]"
   ]
  },
  {
   "cell_type": "code",
   "execution_count": 1,
   "metadata": {},
   "outputs": [],
   "source": [
    "players=dict(\n",
    "{'Connor':'Parun',\n",
    " 'Gruumsh':'Gruumsh',\n",
    " 'Imelda':'DM',\n",
    " 'Julie':'Ylva',\n",
    " 'Lui W.':'Gruumsh',\n",
    " 'Luise G.':'Gruumsh',\n",
    " 'Mike G. (GM)':'DM',\n",
    " 'Parun':'Parun',\n",
    " 'Ylva Tritina':'Ylva',\n",
    " 'Trinity':'Trinity',\n",
    "'Lui, The Unwise Goat':'Gruumsh',\n",
    "'Lui, They see me misty steppin\\'':'Gruumsh',\n",
    "'Lui':'Gruumsh',\n",
    " 'Zim':'Zim',\n",
    " 'Zam':'Zam',\n",
    " 'Snek':'Snek'\n",
    "}\n",
    ")\n",
    "plyrs=[\"Parun\",\"Gruumsh\",\"Ylva\"]"
   ]
  },
  {
   "cell_type": "code",
   "execution_count": 2,
   "metadata": {},
   "outputs": [],
   "source": [
    "players=dict(\n",
    "{'Connor':'Kallistē',\n",
    " 'Lui':'Smallfolk',\n",
    " 'Julie':'Bethrynne',\n",
    " 'Kallistē Phlegethina':'Kallistē',\n",
    " 'Kallistē':'Kallistē',\n",
    " 'Smallfolk':'Smallfolk',\n",
    " 'Bethrynne Mistwinter':'Bethrynne',\n",
    " 'Bethrynne':'Bethrynne'\n",
    "}\n",
    ")\n",
    "plyrs=[\"Bethrynne\",\"Smallfolk\",\"Kallistē\"]"
   ]
  },
  {
   "cell_type": "code",
   "execution_count": 18,
   "metadata": {},
   "outputs": [
    {
     "data": {
      "text/html": [
       "<div>\n",
       "<style scoped>\n",
       "    .dataframe tbody tr th:only-of-type {\n",
       "        vertical-align: middle;\n",
       "    }\n",
       "\n",
       "    .dataframe tbody tr th {\n",
       "        vertical-align: top;\n",
       "    }\n",
       "\n",
       "    .dataframe thead th {\n",
       "        text-align: right;\n",
       "    }\n",
       "</style>\n",
       "<table border=\"1\" class=\"dataframe\">\n",
       "  <thead>\n",
       "    <tr style=\"text-align: right;\">\n",
       "      <th></th>\n",
       "      <th>Player</th>\n",
       "      <th>Timestamp</th>\n",
       "      <th>Skill</th>\n",
       "      <th>Result</th>\n",
       "      <th>Raw</th>\n",
       "      <th>Plus</th>\n",
       "      <th>Day</th>\n",
       "    </tr>\n",
       "  </thead>\n",
       "  <tbody>\n",
       "    <tr>\n",
       "      <th>0</th>\n",
       "      <td>Nura</td>\n",
       "      <td>2020-03-21 19:22:00</td>\n",
       "      <td>INSIGHT</td>\n",
       "      <td>7</td>\n",
       "      <td>2</td>\n",
       "      <td>5</td>\n",
       "      <td>21.03.2020</td>\n",
       "    </tr>\n",
       "    <tr>\n",
       "      <th>1</th>\n",
       "      <td>Nura</td>\n",
       "      <td>2020-03-26 20:52:00</td>\n",
       "      <td>INSIGHT</td>\n",
       "      <td>20</td>\n",
       "      <td>15</td>\n",
       "      <td>5</td>\n",
       "      <td>26.03.2020</td>\n",
       "    </tr>\n",
       "    <tr>\n",
       "      <th>2</th>\n",
       "      <td>Hak-Bina</td>\n",
       "      <td>2020-03-26 21:26:00</td>\n",
       "      <td>PERCEPTION</td>\n",
       "      <td>12</td>\n",
       "      <td>13</td>\n",
       "      <td>-1</td>\n",
       "      <td>26.03.2020</td>\n",
       "    </tr>\n",
       "    <tr>\n",
       "      <th>3</th>\n",
       "      <td>Korth</td>\n",
       "      <td>2020-03-26 21:37:00</td>\n",
       "      <td>PERCEPTION</td>\n",
       "      <td>25</td>\n",
       "      <td>20</td>\n",
       "      <td>5</td>\n",
       "      <td>26.03.2020</td>\n",
       "    </tr>\n",
       "    <tr>\n",
       "      <th>4</th>\n",
       "      <td>Nura</td>\n",
       "      <td>2020-03-26 21:38:00</td>\n",
       "      <td>PERCEPTION</td>\n",
       "      <td>14</td>\n",
       "      <td>9</td>\n",
       "      <td>5</td>\n",
       "      <td>26.03.2020</td>\n",
       "    </tr>\n",
       "    <tr>\n",
       "      <th>...</th>\n",
       "      <td>...</td>\n",
       "      <td>...</td>\n",
       "      <td>...</td>\n",
       "      <td>...</td>\n",
       "      <td>...</td>\n",
       "      <td>...</td>\n",
       "      <td>...</td>\n",
       "    </tr>\n",
       "    <tr>\n",
       "      <th>338</th>\n",
       "      <td>Nepelope</td>\n",
       "      <td>2021-01-07 22:20:00</td>\n",
       "      <td>SURVIVAL</td>\n",
       "      <td>21</td>\n",
       "      <td>19</td>\n",
       "      <td>2</td>\n",
       "      <td>07.01.2021</td>\n",
       "    </tr>\n",
       "    <tr>\n",
       "      <th>340</th>\n",
       "      <td>Oelita</td>\n",
       "      <td>2021-01-07 23:09:00</td>\n",
       "      <td>PERCEPTION</td>\n",
       "      <td>12</td>\n",
       "      <td>11</td>\n",
       "      <td>1</td>\n",
       "      <td>07.01.2021</td>\n",
       "    </tr>\n",
       "    <tr>\n",
       "      <th>342</th>\n",
       "      <td>Korth</td>\n",
       "      <td>2021-01-21 20:54:00</td>\n",
       "      <td>ATHLETICS</td>\n",
       "      <td>20</td>\n",
       "      <td>16</td>\n",
       "      <td>4</td>\n",
       "      <td>21.01.2021</td>\n",
       "    </tr>\n",
       "    <tr>\n",
       "      <th>343</th>\n",
       "      <td>Korth</td>\n",
       "      <td>2021-01-21 21:08:00</td>\n",
       "      <td>ATHLETICS</td>\n",
       "      <td>22</td>\n",
       "      <td>18</td>\n",
       "      <td>4</td>\n",
       "      <td>21.01.2021</td>\n",
       "    </tr>\n",
       "    <tr>\n",
       "      <th>344</th>\n",
       "      <td>Korth</td>\n",
       "      <td>2021-01-21 21:11:00</td>\n",
       "      <td>ATHLETICS</td>\n",
       "      <td>12</td>\n",
       "      <td>8</td>\n",
       "      <td>4</td>\n",
       "      <td>21.01.2021</td>\n",
       "    </tr>\n",
       "  </tbody>\n",
       "</table>\n",
       "<p>303 rows × 7 columns</p>\n",
       "</div>"
      ],
      "text/plain": [
       "       Player           Timestamp       Skill  Result  Raw  Plus         Day\n",
       "0        Nura 2020-03-21 19:22:00     INSIGHT       7    2     5  21.03.2020\n",
       "1        Nura 2020-03-26 20:52:00     INSIGHT      20   15     5  26.03.2020\n",
       "2    Hak-Bina 2020-03-26 21:26:00  PERCEPTION      12   13    -1  26.03.2020\n",
       "3       Korth 2020-03-26 21:37:00  PERCEPTION      25   20     5  26.03.2020\n",
       "4        Nura 2020-03-26 21:38:00  PERCEPTION      14    9     5  26.03.2020\n",
       "..        ...                 ...         ...     ...  ...   ...         ...\n",
       "338  Nepelope 2021-01-07 22:20:00    SURVIVAL      21   19     2  07.01.2021\n",
       "340    Oelita 2021-01-07 23:09:00  PERCEPTION      12   11     1  07.01.2021\n",
       "342     Korth 2021-01-21 20:54:00   ATHLETICS      20   16     4  21.01.2021\n",
       "343     Korth 2021-01-21 21:08:00   ATHLETICS      22   18     4  21.01.2021\n",
       "344     Korth 2021-01-21 21:11:00   ATHLETICS      12    8     4  21.01.2021\n",
       "\n",
       "[303 rows x 7 columns]"
      ]
     },
     "execution_count": 18,
     "metadata": {},
     "output_type": "execute_result"
    }
   ],
   "source": [
    "import pandas as pd\n",
    "import matplotlib.pyplot as plt\n",
    "from matplotlib.dates import DateFormatter\n",
    "import seaborn as sns\n",
    "%matplotlib inline\n",
    "\n",
    "skills=['ACROBATICS',\n",
    " 'ANIMAL HANDLING',\n",
    " 'ARCANA',\n",
    " 'ATHLETICS',\n",
    " 'DECEPTION',\n",
    " 'HISTORY',\n",
    " 'INSIGHT',\n",
    " 'INTIMIDATION',\n",
    " 'INVESTIGATION',\n",
    " 'MEDICINE',\n",
    " 'NATURE',\n",
    " 'PERCEPTION',\n",
    " 'PERFORMANCE',\n",
    " 'PERSUASION',\n",
    " 'RELIGION',\n",
    " 'SLEIGHT OF HAND',\n",
    " 'STEALTH',\n",
    " 'SURVIVAL']\n",
    "\n",
    "df=pd.read_csv(\"skills_\"+name+\".csv\",sep=\";\")\n",
    "df[\"Timestamp\"]=pd.to_datetime(df[\"Timestamp\"])\n",
    "df[\"Player\"]=df[\"Player\"].apply(lambda x: players[x])\n",
    "df['Day'] = df['Timestamp'].dt.strftime('%d.%m.%Y')\n",
    "df=df[df[\"Player\"].isin(plyrs)]\n",
    "df"
   ]
  },
  {
   "cell_type": "markdown",
   "metadata": {},
   "source": [
    "## Skillchecks"
   ]
  },
  {
   "cell_type": "code",
   "execution_count": 11,
   "metadata": {},
   "outputs": [
    {
     "data": {
      "text/plain": [
       "(array([ 0,  1,  2,  3,  4,  5,  6,  7,  8,  9, 10, 11, 12, 13, 14, 15, 16,\n",
       "        17]),\n",
       " [Text(0, 0, 'ACROBATICS'),\n",
       "  Text(1, 0, 'ANIMAL HANDLING'),\n",
       "  Text(2, 0, 'ARCANA'),\n",
       "  Text(3, 0, 'ATHLETICS'),\n",
       "  Text(4, 0, 'DECEPTION'),\n",
       "  Text(5, 0, 'HISTORY'),\n",
       "  Text(6, 0, 'INSIGHT'),\n",
       "  Text(7, 0, 'INTIMIDATION'),\n",
       "  Text(8, 0, 'INVESTIGATION'),\n",
       "  Text(9, 0, 'MEDICINE'),\n",
       "  Text(10, 0, 'NATURE'),\n",
       "  Text(11, 0, 'PERCEPTION'),\n",
       "  Text(12, 0, 'PERFORMANCE'),\n",
       "  Text(13, 0, 'PERSUASION'),\n",
       "  Text(14, 0, 'RELIGION'),\n",
       "  Text(15, 0, 'SLEIGHT OF HAND'),\n",
       "  Text(16, 0, 'STEALTH'),\n",
       "  Text(17, 0, 'SURVIVAL')])"
      ]
     },
     "execution_count": 11,
     "metadata": {},
     "output_type": "execute_result"
    },
    {
     "data": {
      "image/png": "[encoded data removed]",
      "text/plain": [
       "<Figure size 432x288 with 1 Axes>"
      ]
     },
     "metadata": {
      "needs_background": "light"
     },
     "output_type": "display_data"
    }
   ],
   "source": [
    "ax = sns.countplot(x=\"Skill\", hue=\"Player\", data=df, order=skills)\n",
    "plt.xticks(rotation=90)"
   ]
  },
  {
   "cell_type": "markdown",
   "metadata": {},
   "source": [
    "Count of skillchecks per month and player"
   ]
  },
  {
   "cell_type": "code",
   "execution_count": 12,
   "metadata": {},
   "outputs": [
    {
     "data": {
      "text/plain": [
       "Timestamp  Timestamp  Player  \n",
       "2020       3          Hak-Bina    1\n",
       "                      Korth       1\n",
       "                      Nura        3\n",
       "                      Oelita      4\n",
       "           4          Dasypus     7\n",
       "                                 ..\n",
       "2021       1          Hak-Bina    2\n",
       "                      Korth       6\n",
       "                      Nepelope    2\n",
       "                      Nura        2\n",
       "                      Oelita      1\n",
       "Name: Timestamp, Length: 66, dtype: int64"
      ]
     },
     "execution_count": 12,
     "metadata": {},
     "output_type": "execute_result"
    }
   ],
   "source": [
    "df['Timestamp'].groupby([df.Timestamp.dt.year, df.Timestamp.dt.month, df.Player]).agg('count')"
   ]
  },
  {
   "cell_type": "markdown",
   "metadata": {},
   "source": [
    "Average plusses on skillchecks"
   ]
  },
  {
   "cell_type": "code",
   "execution_count": 13,
   "metadata": {},
   "outputs": [
    {
     "data": {
      "text/plain": [
       "Player\n",
       "Dasypus       2.534884\n",
       "Hak-Bina      1.432836\n",
       "Korth         2.887097\n",
       "Kääpiöinën    2.727273\n",
       "Nepelope      1.488372\n",
       "Nura          4.083333\n",
       "Oelita        1.025641\n",
       "Wise Goat     2.666667\n",
       "Name: Plus, dtype: float64"
      ]
     },
     "execution_count": 13,
     "metadata": {},
     "output_type": "execute_result"
    }
   ],
   "source": [
    "df['Plus'].groupby([df.Player]).agg('mean')"
   ]
  },
  {
   "cell_type": "markdown",
   "metadata": {},
   "source": [
    "## Distribution of natural rolls"
   ]
  },
  {
   "cell_type": "code",
   "execution_count": 21,
   "metadata": {},
   "outputs": [
    {
     "data": {
      "text/plain": [
       "<seaborn.axisgrid.FacetGrid at 0x7f8e2ada6eb0>"
      ]
     },
     "execution_count": 21,
     "metadata": {},
     "output_type": "execute_result"
    },
    {
     "data": {
      "image/png": "[encoded data removed]",
      "text/plain": [
       "<Figure size 864x432 with 8 Axes>"
      ]
     },
     "metadata": {
      "needs_background": "light"
     },
     "output_type": "display_data"
    }
   ],
   "source": [
    "g = sns.FacetGrid(df,col=\"Player\",col_wrap=4)\n",
    "g.map_dataframe(sns.histplot, x=\"Raw\")\n",
    "g.set_axis_labels(\"Raw Rolls\", \"Count\")"
   ]
  },
  {
   "cell_type": "markdown",
   "metadata": {},
   "source": [
    "## Crits"
   ]
  },
  {
   "cell_type": "code",
   "execution_count": 15,
   "metadata": {},
   "outputs": [],
   "source": [
    "crits20=df[df[\"Raw\"]==20]\n",
    "crits1=df[df[\"Raw\"]==1]"
   ]
  },
  {
   "cell_type": "code",
   "execution_count": 16,
   "metadata": {},
   "outputs": [
    {
     "data": {
      "text/plain": [
       "Player\n",
       "Dasypus       2\n",
       "Hak-Bina      7\n",
       "Korth         4\n",
       "Kääpiöinën    1\n",
       "Nepelope      3\n",
       "Nura          1\n",
       "Oelita        5\n",
       "Name: Timestamp, dtype: int64"
      ]
     },
     "execution_count": 16,
     "metadata": {},
     "output_type": "execute_result"
    }
   ],
   "source": [
    "crits20['Timestamp'].groupby([df.Timestamp.dt.year, df.Timestamp.dt.month, df.Player]).agg('count')\n",
    "crits20['Timestamp'].groupby([df.Player]).agg('count')"
   ]
  },
  {
   "cell_type": "code",
   "execution_count": 17,
   "metadata": {},
   "outputs": [
    {
     "data": {
      "text/plain": [
       "Player\n",
       "Dasypus       1\n",
       "Hak-Bina      4\n",
       "Korth         3\n",
       "Kääpiöinën    2\n",
       "Nepelope      3\n",
       "Nura          1\n",
       "Oelita        2\n",
       "Name: Timestamp, dtype: int64"
      ]
     },
     "execution_count": 17,
     "metadata": {},
     "output_type": "execute_result"
    }
   ],
   "source": [
    "crits1['Timestamp'].groupby([df.Timestamp.dt.year, df.Timestamp.dt.month, df.Player]).agg('count')\n",
    "crits1['Timestamp'].groupby([df.Player]).agg('count')"
   ]
  }
 ],
 "metadata": {
  "kernelspec": {
   "display_name": "Python 3",
   "language": "python",
   "name": "python3"
  },
  "language_info": {
   "codemirror_mode": {
    "name": "ipython",
    "version": 3
   },
   "file_extension": ".py",
   "mimetype": "text/x-python",
   "name": "python",
   "nbconvert_exporter": "python",
   "pygments_lexer": "ipython3",
   "version": "3.9.1"
  }
 },
 "nbformat": 4,
 "nbformat_minor": 4
}
