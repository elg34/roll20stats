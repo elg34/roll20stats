{
 "cells": [
  {
   "cell_type": "code",
   "execution_count": 1,
   "metadata": {},
   "outputs": [],
   "source": [
    "## INPUT\n",
    "name=\"DescentIntoFuckery\"\n",
    "\n",
    "skill_labels=['ACROBATICS',\n",
    " 'ANIMAL HANDLING',\n",
    " 'ARCANA',\n",
    " 'ATHLETICS',\n",
    " 'DECEPTION',\n",
    " 'HISTORY',\n",
    " 'INSIGHT',\n",
    " 'INTIMIDATION',\n",
    " 'INVESTIGATION',\n",
    " 'MEDICINE',\n",
    " 'NATURE',\n",
    " 'PERCEPTION',\n",
    " 'PERFORMANCE',\n",
    " 'PERSUASION',\n",
    " 'RELIGION',\n",
    " 'SLEIGHT OF HAND',\n",
    " 'STEALTH',\n",
    " 'SURVIVAL']\n",
    "\n",
    "attr_labels=['STRENGTH',\n",
    " 'DEXTERITY',\n",
    " 'CONSTITUTION',\n",
    " 'INTELLIGENCE',\n",
    " 'WISDOM',\n",
    " 'CHARISMA']\n",
    "\n",
    "save_labels=['STRENGTH SAVE',\n",
    " 'DEXTERITY SAVE',\n",
    " 'CONSTITUTION SAVE',\n",
    " 'INTELLIGENCE SAVE',\n",
    " 'WISDOM SAVE',\n",
    " 'CHARISMA SAVE',\n",
    " 'DEATH SAVE']"
   ]
  },
  {
   "cell_type": "code",
   "execution_count": 2,
   "metadata": {},
   "outputs": [
    {
     "data": {
      "text/html": [
       "<div>\n",
       "<style scoped>\n",
       "    .dataframe tbody tr th:only-of-type {\n",
       "        vertical-align: middle;\n",
       "    }\n",
       "\n",
       "    .dataframe tbody tr th {\n",
       "        vertical-align: top;\n",
       "    }\n",
       "\n",
       "    .dataframe thead th {\n",
       "        text-align: right;\n",
       "    }\n",
       "</style>\n",
       "<table border=\"1\" class=\"dataframe\">\n",
       "  <thead>\n",
       "    <tr style=\"text-align: right;\">\n",
       "      <th></th>\n",
       "      <th>Player</th>\n",
       "      <th>Timestamp</th>\n",
       "      <th>Skill/Weapon/Spell</th>\n",
       "      <th>Result</th>\n",
       "      <th>Raw</th>\n",
       "      <th>Plus</th>\n",
       "      <th>Final</th>\n",
       "      <th>Type</th>\n",
       "      <th>Day</th>\n",
       "    </tr>\n",
       "  </thead>\n",
       "  <tbody>\n",
       "    <tr>\n",
       "      <th>0</th>\n",
       "      <td>Smallfolk</td>\n",
       "      <td>2021-01-03 19:36:00</td>\n",
       "      <td>STEALTH</td>\n",
       "      <td>25</td>\n",
       "      <td>19</td>\n",
       "      <td>6</td>\n",
       "      <td>1.0</td>\n",
       "      <td>Skill</td>\n",
       "      <td>2021-03-01</td>\n",
       "    </tr>\n",
       "    <tr>\n",
       "      <th>1</th>\n",
       "      <td>Kallistē</td>\n",
       "      <td>2021-01-03 19:38:00</td>\n",
       "      <td>DECEPTION</td>\n",
       "      <td>20</td>\n",
       "      <td>17</td>\n",
       "      <td>3</td>\n",
       "      <td>1.0</td>\n",
       "      <td>Skill</td>\n",
       "      <td>2021-03-01</td>\n",
       "    </tr>\n",
       "    <tr>\n",
       "      <th>2</th>\n",
       "      <td>Kallistē</td>\n",
       "      <td>2021-01-03 19:38:00</td>\n",
       "      <td>DECEPTION</td>\n",
       "      <td>11</td>\n",
       "      <td>8</td>\n",
       "      <td>3</td>\n",
       "      <td>0.0</td>\n",
       "      <td>Skill</td>\n",
       "      <td>2021-03-01</td>\n",
       "    </tr>\n",
       "    <tr>\n",
       "      <th>3</th>\n",
       "      <td>Bethrynne</td>\n",
       "      <td>2021-01-03 19:50:00</td>\n",
       "      <td>HISTORY</td>\n",
       "      <td>8</td>\n",
       "      <td>2</td>\n",
       "      <td>6</td>\n",
       "      <td>1.0</td>\n",
       "      <td>Skill</td>\n",
       "      <td>2021-03-01</td>\n",
       "    </tr>\n",
       "    <tr>\n",
       "      <th>4</th>\n",
       "      <td>Smallfolk</td>\n",
       "      <td>2021-01-03 19:50:00</td>\n",
       "      <td>HISTORY</td>\n",
       "      <td>12</td>\n",
       "      <td>12</td>\n",
       "      <td>0</td>\n",
       "      <td>1.0</td>\n",
       "      <td>Skill</td>\n",
       "      <td>2021-03-01</td>\n",
       "    </tr>\n",
       "    <tr>\n",
       "      <th>...</th>\n",
       "      <td>...</td>\n",
       "      <td>...</td>\n",
       "      <td>...</td>\n",
       "      <td>...</td>\n",
       "      <td>...</td>\n",
       "      <td>...</td>\n",
       "      <td>...</td>\n",
       "      <td>...</td>\n",
       "      <td>...</td>\n",
       "    </tr>\n",
       "    <tr>\n",
       "      <th>340</th>\n",
       "      <td>Smallfolk</td>\n",
       "      <td>2021-02-08 00:38:00</td>\n",
       "      <td>Longbow</td>\n",
       "      <td>23</td>\n",
       "      <td>17</td>\n",
       "      <td>6</td>\n",
       "      <td>0.0</td>\n",
       "      <td>Attack</td>\n",
       "      <td>2021-08-02</td>\n",
       "    </tr>\n",
       "    <tr>\n",
       "      <th>341</th>\n",
       "      <td>Smallfolk</td>\n",
       "      <td>2021-02-08 00:38:00</td>\n",
       "      <td>WISDOM SAVE</td>\n",
       "      <td>17</td>\n",
       "      <td>18</td>\n",
       "      <td>-1</td>\n",
       "      <td>1.0</td>\n",
       "      <td>Save</td>\n",
       "      <td>2021-08-02</td>\n",
       "    </tr>\n",
       "    <tr>\n",
       "      <th>342</th>\n",
       "      <td>Bethrynne</td>\n",
       "      <td>2021-02-08 00:39:00</td>\n",
       "      <td>ARCANA</td>\n",
       "      <td>10</td>\n",
       "      <td>4</td>\n",
       "      <td>6</td>\n",
       "      <td>1.0</td>\n",
       "      <td>Skill</td>\n",
       "      <td>2021-08-02</td>\n",
       "    </tr>\n",
       "    <tr>\n",
       "      <th>343</th>\n",
       "      <td>Bethrynne</td>\n",
       "      <td>2021-02-08 00:39:00</td>\n",
       "      <td>ARCANA</td>\n",
       "      <td>12</td>\n",
       "      <td>6</td>\n",
       "      <td>6</td>\n",
       "      <td>1.0</td>\n",
       "      <td>Skill</td>\n",
       "      <td>2021-08-02</td>\n",
       "    </tr>\n",
       "    <tr>\n",
       "      <th>344</th>\n",
       "      <td>Kallistē</td>\n",
       "      <td>2021-02-08 00:49:00</td>\n",
       "      <td>RELIGION</td>\n",
       "      <td>4</td>\n",
       "      <td>4</td>\n",
       "      <td>0</td>\n",
       "      <td>1.0</td>\n",
       "      <td>Skill</td>\n",
       "      <td>2021-08-02</td>\n",
       "    </tr>\n",
       "  </tbody>\n",
       "</table>\n",
       "<p>345 rows × 9 columns</p>\n",
       "</div>"
      ],
      "text/plain": [
       "        Player           Timestamp Skill/Weapon/Spell  Result  Raw  Plus  \\\n",
       "0    Smallfolk 2021-01-03 19:36:00            STEALTH      25   19     6   \n",
       "1     Kallistē 2021-01-03 19:38:00          DECEPTION      20   17     3   \n",
       "2     Kallistē 2021-01-03 19:38:00          DECEPTION      11    8     3   \n",
       "3    Bethrynne 2021-01-03 19:50:00            HISTORY       8    2     6   \n",
       "4    Smallfolk 2021-01-03 19:50:00            HISTORY      12   12     0   \n",
       "..         ...                 ...                ...     ...  ...   ...   \n",
       "340  Smallfolk 2021-02-08 00:38:00            Longbow      23   17     6   \n",
       "341  Smallfolk 2021-02-08 00:38:00        WISDOM SAVE      17   18    -1   \n",
       "342  Bethrynne 2021-02-08 00:39:00             ARCANA      10    4     6   \n",
       "343  Bethrynne 2021-02-08 00:39:00             ARCANA      12    6     6   \n",
       "344   Kallistē 2021-02-08 00:49:00           RELIGION       4    4     0   \n",
       "\n",
       "     Final    Type        Day  \n",
       "0      1.0   Skill 2021-03-01  \n",
       "1      1.0   Skill 2021-03-01  \n",
       "2      0.0   Skill 2021-03-01  \n",
       "3      1.0   Skill 2021-03-01  \n",
       "4      1.0   Skill 2021-03-01  \n",
       "..     ...     ...        ...  \n",
       "340    0.0  Attack 2021-08-02  \n",
       "341    1.0    Save 2021-08-02  \n",
       "342    1.0   Skill 2021-08-02  \n",
       "343    1.0   Skill 2021-08-02  \n",
       "344    1.0   Skill 2021-08-02  \n",
       "\n",
       "[345 rows x 9 columns]"
      ]
     },
     "execution_count": 2,
     "metadata": {},
     "output_type": "execute_result"
    }
   ],
   "source": [
    "import pandas as pd\n",
    "import matplotlib.pyplot as plt\n",
    "from matplotlib.dates import DateFormatter\n",
    "import seaborn as sns\n",
    "%matplotlib inline\n",
    "\n",
    "df=pd.read_csv(\"rolls_\"+name+\".csv\",sep=\";\")\n",
    "df[\"Timestamp\"]=pd.to_datetime(df[\"Timestamp\"])\n",
    "df[\"Day\"]=pd.to_datetime(df[\"Day\"])\n",
    "\n",
    "skills=df[df[\"Type\"]==\"Skill\"].rename(columns={\"Skill/Weapon/Spell\": \"Skill\"})\n",
    "attacks=df[df[\"Type\"]==\"Attack\"].rename(columns={\"Skill/Weapon/Spell\": \"Weapon/Spell\"})\n",
    "saves=df[df[\"Type\"]==\"Save\"].rename(columns={\"Skill/Weapon/Spell\": \"Save\"})\n",
    "other=df[df[\"Type\"]==\"Other\"].rename(columns={\"Skill/Weapon/Spell\": \"Skill\"})\n",
    "\n",
    "plyr_labels=list(set(df[\"Player\"]))\n",
    "\n",
    "df"
   ]
  },
  {
   "cell_type": "code",
   "execution_count": 3,
   "metadata": {},
   "outputs": [
    {
     "name": "stdout",
     "output_type": "stream",
     "text": [
      "(0, 9)\n"
     ]
    }
   ],
   "source": [
    "print(df[df[\"Raw\"]>20].shape)\n",
    "df=df[df[\"Raw\"]<=20]"
   ]
  },
  {
   "cell_type": "markdown",
   "metadata": {},
   "source": [
    "## Skillchecks"
   ]
  },
  {
   "cell_type": "code",
   "execution_count": 4,
   "metadata": {},
   "outputs": [
    {
     "data": {
      "text/plain": [
       "<matplotlib.legend.Legend at 0x7f83f9596e50>"
      ]
     },
     "execution_count": 4,
     "metadata": {},
     "output_type": "execute_result"
    },
    {
     "data": {
      "image/png": "[encoded data removed]",
      "text/plain": [
       "<Figure size 432x288 with 1 Axes>"
      ]
     },
     "metadata": {
      "needs_background": "light"
     },
     "output_type": "display_data"
    }
   ],
   "source": [
    "ax = sns.countplot(x=\"Skill\", hue=\"Player\", data=skills[skills[\"Final\"]==1], order=skill_labels,hue_order=plyr_labels)\n",
    "plt.xticks(rotation=90)\n",
    "plt.legend(bbox_to_anchor=(1.05, 1), loc=2, borderaxespad=0.)"
   ]
  },
  {
   "cell_type": "markdown",
   "metadata": {},
   "source": [
    "Count of skillchecks per month and player"
   ]
  },
  {
   "cell_type": "code",
   "execution_count": 5,
   "metadata": {},
   "outputs": [
    {
     "data": {
      "text/plain": [
       "Timestamp  Timestamp  Player     Final\n",
       "2021       1          Bethrynne  0.0       4\n",
       "                                 1.0      54\n",
       "                      Kallistē   0.0       4\n",
       "                                 1.0      57\n",
       "                      Smallfolk  0.0      10\n",
       "                                 1.0      41\n",
       "           2          Bethrynne  0.0       3\n",
       "                                 1.0      18\n",
       "                      Kallistē   1.0      12\n",
       "                      Smallfolk  0.0       4\n",
       "                                 1.0      11\n",
       "Name: Timestamp, dtype: int64"
      ]
     },
     "execution_count": 5,
     "metadata": {},
     "output_type": "execute_result"
    }
   ],
   "source": [
    "skills['Timestamp'].groupby([skills.Timestamp.dt.year, skills.Timestamp.dt.month, skills.Player,df.Final]).agg('count')"
   ]
  },
  {
   "cell_type": "markdown",
   "metadata": {},
   "source": [
    "Average plusses on skillchecks"
   ]
  },
  {
   "cell_type": "markdown",
   "metadata": {},
   "source": [
    "## Distribution of rolls"
   ]
  },
  {
   "cell_type": "code",
   "execution_count": 6,
   "metadata": {},
   "outputs": [
    {
     "data": {
      "text/plain": [
       "<seaborn.axisgrid.FacetGrid at 0x7f83f13cb6a0>"
      ]
     },
     "execution_count": 6,
     "metadata": {},
     "output_type": "execute_result"
    },
    {
     "data": {
      "image/png": "[encoded data removed]",
      "text/plain": [
       "<Figure size 864x216 with 3 Axes>"
      ]
     },
     "metadata": {
      "needs_background": "light"
     },
     "output_type": "display_data"
    }
   ],
   "source": [
    "g = sns.FacetGrid(df[df[\"Final\"]==1],col=\"Player\",hue=\"Player\",col_wrap=4,col_order=plyr_labels,hue_order=plyr_labels)\n",
    "g.map_dataframe(sns.histplot, x=\"Raw\",bins=20)\n",
    "g.set_axis_labels(\"All Raw Rolls (Final)\", \"Count\")"
   ]
  },
  {
   "cell_type": "code",
   "execution_count": 7,
   "metadata": {},
   "outputs": [
    {
     "data": {
      "text/plain": [
       "<seaborn.axisgrid.FacetGrid at 0x7f83f122e880>"
      ]
     },
     "execution_count": 7,
     "metadata": {},
     "output_type": "execute_result"
    },
    {
     "data": {
      "image/png": "[encoded data removed]",
      "text/plain": [
       "<Figure size 864x216 with 3 Axes>"
      ]
     },
     "metadata": {
      "needs_background": "light"
     },
     "output_type": "display_data"
    }
   ],
   "source": [
    "g = sns.FacetGrid(df,col=\"Player\",hue=\"Player\",col_wrap=4,col_order=plyr_labels,hue_order=plyr_labels)\n",
    "g.map_dataframe(sns.histplot, x=\"Raw\",bins=20)\n",
    "g.set_axis_labels(\"All Raw Rolls (all)\", \"Count\")"
   ]
  },
  {
   "cell_type": "code",
   "execution_count": 8,
   "metadata": {},
   "outputs": [
    {
     "data": {
      "text/plain": [
       "<seaborn.axisgrid.FacetGrid at 0x7f83f10ef400>"
      ]
     },
     "execution_count": 8,
     "metadata": {},
     "output_type": "execute_result"
    },
    {
     "data": {
      "image/png": "[encoded data removed]",
      "text/plain": [
       "<Figure size 864x216 with 3 Axes>"
      ]
     },
     "metadata": {
      "needs_background": "light"
     },
     "output_type": "display_data"
    }
   ],
   "source": [
    "g = sns.FacetGrid(attacks[attacks[\"Final\"]==1],col=\"Player\",hue=\"Player\",col_wrap=4,col_order=plyr_labels,hue_order=plyr_labels)\n",
    "g.map_dataframe(sns.histplot, x=\"Raw\",bins=20)\n",
    "g.set_axis_labels(\"Raw Attack Rolls (Final)\", \"Count\")"
   ]
  },
  {
   "cell_type": "code",
   "execution_count": 9,
   "metadata": {},
   "outputs": [
    {
     "data": {
      "text/plain": [
       "<seaborn.axisgrid.FacetGrid at 0x7f83f109d730>"
      ]
     },
     "execution_count": 9,
     "metadata": {},
     "output_type": "execute_result"
    },
    {
     "data": {
      "image/png": "[encoded data removed]",
      "text/plain": [
       "<Figure size 864x216 with 3 Axes>"
      ]
     },
     "metadata": {
      "needs_background": "light"
     },
     "output_type": "display_data"
    }
   ],
   "source": [
    "g = sns.FacetGrid(skills[skills[\"Final\"]==1],col=\"Player\",hue=\"Player\",col_wrap=4,col_order=plyr_labels,hue_order=plyr_labels)\n",
    "g.map_dataframe(sns.histplot, x=\"Raw\",bins=20)\n",
    "g.set_axis_labels(\"Raw Skill Rolls (Final)\", \"Count\")"
   ]
  },
  {
   "cell_type": "code",
   "execution_count": 10,
   "metadata": {},
   "outputs": [
    {
     "data": {
      "text/plain": [
       "Player\n",
       "Bethrynne    10.905983\n",
       "Kallistē     10.065934\n",
       "Smallfolk     9.985401\n",
       "Name: Raw, dtype: float64"
      ]
     },
     "execution_count": 10,
     "metadata": {},
     "output_type": "execute_result"
    }
   ],
   "source": [
    "df['Raw'].groupby([df.Player]).agg('mean')"
   ]
  },
  {
   "cell_type": "code",
   "execution_count": 11,
   "metadata": {},
   "outputs": [
    {
     "data": {
      "text/plain": [
       "Player\n",
       "Bethrynne    5.676605\n",
       "Kallistē     5.474795\n",
       "Smallfolk    5.580936\n",
       "Name: Raw, dtype: float64"
      ]
     },
     "execution_count": 11,
     "metadata": {},
     "output_type": "execute_result"
    }
   ],
   "source": [
    "df['Raw'].groupby([df.Player]).agg('std')"
   ]
  },
  {
   "cell_type": "markdown",
   "metadata": {},
   "source": [
    "## Crits"
   ]
  },
  {
   "cell_type": "code",
   "execution_count": 12,
   "metadata": {},
   "outputs": [],
   "source": [
    "crits20=df[(df[\"Raw\"]==20)]\n",
    "crits1=df[(df[\"Raw\"]==1)]"
   ]
  },
  {
   "cell_type": "code",
   "execution_count": 13,
   "metadata": {},
   "outputs": [
    {
     "data": {
      "text/plain": [
       "<matplotlib.legend.Legend at 0x7f83f0e48040>"
      ]
     },
     "execution_count": 13,
     "metadata": {},
     "output_type": "execute_result"
    },
    {
     "data": {
      "image/png": "[encoded data removed]",
      "text/plain": [
       "<Figure size 432x288 with 1 Axes>"
      ]
     },
     "metadata": {
      "needs_background": "light"
     },
     "output_type": "display_data"
    }
   ],
   "source": [
    "ax = sns.countplot(x=\"Player\",hue=\"Type\", data=crits20[crits20[\"Final\"]==1])\n",
    "plt.xticks(rotation=90)\n",
    "plt.title(\"Number of Nat 20ies (Final Rolls)\")\n",
    "plt.legend(bbox_to_anchor=(1.05, 1), loc=2, borderaxespad=0.)"
   ]
  },
  {
   "cell_type": "code",
   "execution_count": 14,
   "metadata": {},
   "outputs": [
    {
     "data": {
      "text/plain": [
       "<matplotlib.legend.Legend at 0x7f83f0d99ca0>"
      ]
     },
     "execution_count": 14,
     "metadata": {},
     "output_type": "execute_result"
    },
    {
     "data": {
      "image/png": "[encoded data removed]",
      "text/plain": [
       "<Figure size 432x288 with 1 Axes>"
      ]
     },
     "metadata": {
      "needs_background": "light"
     },
     "output_type": "display_data"
    }
   ],
   "source": [
    "ax = sns.countplot(x=\"Player\",hue=\"Type\", data=crits1[crits1[\"Final\"]==1])\n",
    "plt.xticks(rotation=90)\n",
    "plt.title(\"Number of Nat 1s (Final Rolls)\")\n",
    "plt.legend(bbox_to_anchor=(1.05, 1), loc=2, borderaxespad=0.)"
   ]
  },
  {
   "cell_type": "markdown",
   "metadata": {},
   "source": [
    "## Saves"
   ]
  },
  {
   "cell_type": "code",
   "execution_count": 15,
   "metadata": {},
   "outputs": [
    {
     "data": {
      "text/plain": [
       "<matplotlib.legend.Legend at 0x7f83f0bfd9d0>"
      ]
     },
     "execution_count": 15,
     "metadata": {},
     "output_type": "execute_result"
    },
    {
     "data": {
      "image/png": "[encoded data removed]",
      "text/plain": [
       "<Figure size 432x288 with 1 Axes>"
      ]
     },
     "metadata": {
      "needs_background": "light"
     },
     "output_type": "display_data"
    }
   ],
   "source": [
    "ax = sns.countplot(x=\"Save\",hue=\"Player\", data=saves[saves[\"Final\"]==1],hue_order=plyr_labels,order=save_labels)\n",
    "plt.xticks(rotation=90)\n",
    "plt.title(\"Number of Nat 1s (Final Rolls)\")\n",
    "plt.legend(bbox_to_anchor=(1.05, 1), loc=2, borderaxespad=0.)"
   ]
  }
 ],
 "metadata": {
  "kernelspec": {
   "display_name": "Python 3",
   "language": "python",
   "name": "python3"
  },
  "language_info": {
   "codemirror_mode": {
    "name": "ipython",
    "version": 3
   },
   "file_extension": ".py",
   "mimetype": "text/x-python",
   "name": "python",
   "nbconvert_exporter": "python",
   "pygments_lexer": "ipython3",
   "version": "3.9.1"
  }
 },
 "nbformat": 4,
 "nbformat_minor": 4
}
